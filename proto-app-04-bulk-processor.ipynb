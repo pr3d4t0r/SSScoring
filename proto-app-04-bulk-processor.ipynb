{
 "cells": [
  {
   "cell_type": "markdown",
   "id": "12683b83-af00-4386-9d59-569068e265fb",
   "metadata": {},
   "source": [
    "# Bulk processor and improved FlySight file and jump validation\n",
    "\n",
    "Uses `./data` as a data lake."
   ]
  },
  {
   "cell_type": "code",
   "execution_count": null,
   "id": "2768c7af-c522-441c-86f6-459ca4bb59f2",
   "metadata": {},
   "outputs": [],
   "source": [
    "%%capture\n",
    "!x=$(pip list | awk '/haversine/') ; [[ -z \"$x\" ]] && make local"
   ]
  },
  {
   "cell_type": "code",
   "execution_count": null,
   "id": "a3717f50-94a0-4023-9c31-a2ba3d2da3c4",
   "metadata": {},
   "outputs": [],
   "source": [
    "from pathlib import Path\n",
    "\n",
    "import warnings\n",
    "\n",
    "import bokeh.models as bm\n",
    "import bokeh.plotting as bp\n",
    "import ipywidgets as widgets\n",
    "import pandas as pd"
   ]
  },
  {
   "cell_type": "code",
   "execution_count": null,
   "id": "22dfda53-510e-4a71-a992-6619f3bdbb14",
   "metadata": {},
   "outputs": [],
   "source": [
    "from ssscoring.calc import aggregateResults\n",
    "from ssscoring.calc import convertFlySight2SSScoring\n",
    "from ssscoring.calc import getFlySightDataFromCSVFileName\n",
    "from ssscoring.calc import isValidMaximumAltitude\n",
    "from ssscoring.calc import isValidMinimumAltitude\n",
    "from ssscoring.calc import processAllJumpFiles\n",
    "from ssscoring.calc import processJump\n",
    "from ssscoring.calc import roundedAggregateResults\n",
    "from ssscoring.calc import totalResultsFrom\n",
    "from ssscoring.datatypes import JumpStatus\n",
    "from ssscoring.constants import FT_IN_M\n",
    "from ssscoring.flysight import getAllSpeedJumpFilesFrom\n",
    "from ssscoring.notebook import SPEED_COLORS\n",
    "from ssscoring.notebook import graphAltitude\n",
    "from ssscoring.notebook import graphAngle\n",
    "from ssscoring.notebook import graphJumpResult\n",
    "from ssscoring.notebook import initializeExtraYRanges\n",
    "from ssscoring.notebook import initializePlot"
   ]
  },
  {
   "cell_type": "markdown",
   "id": "2cecfa30-de7d-4da9-b3b0-4377d77781a4",
   "metadata": {},
   "source": [
    "---\n",
    "## Set DZ altitude MSL\n",
    "\n",
    "Set the value in ft.  Wingsuit World <a href='https://wingsuit.world/dropzones/' target='_blank'>List of Dropzones</a> is a good resource."
   ]
  },
  {
   "cell_type": "code",
   "execution_count": null,
   "id": "d6945e5d-b64b-408d-b3f3-31e0e9f76374",
   "metadata": {
    "jupyter": {
     "source_hidden": true
    }
   },
   "outputs": [],
   "source": [
    "\n",
    "dropZones = {\n",
    "    'Drop zone': [\n",
    "        'Aerodrom Tanay',\n",
    "        'Aerograd Kolomna',\n",
    "        'Bay Area Skydiving',\n",
    "        'Drop Zone Thailand',\n",
    "        'DZ Krutitcy',\n",
    "        'Fehrbellin',\n",
    "        'Lodi Parachute Center',\n",
    "        'Mile High',\n",
    "        'Neustadt-Glewe',\n",
    "        'Paracaidismo Celaya',\n",
    "        'Paraclete XP',\n",
    "        'Saarlouis-Düren',\n",
    "        'SkyDance SkyDiving',\n",
    "        'Skydive Algarve',\n",
    "        'Skydive Arizona',\n",
    "        'Skydive Buzz',\n",
    "        'Skydive Chicago',\n",
    "        'Skydive Fano',\n",
    "        'Skydive Netheravon',\n",
    "        'Skydive Perris',\n",
    "        'Skydive Puebla',\n",
    "        'Skydive Saulgau',\n",
    "        'Skydive Teuge',\n",
    "        'Thai Sky Adventures',\n",
    "    ],\n",
    "    'Alt (ft)': [\n",
    "        699.0,\n",
    "        472.0,\n",
    "        23.0,\n",
    "        15.0,\n",
    "        377.0,\n",
    "        138.0,\n",
    "        59.0,\n",
    "        5500.0,\n",
    "        115.0,\n",
    "        5734.0,\n",
    "        304.0,\n",
    "        1119.0,\n",
    "        100.0,\n",
    "        6.0,\n",
    "        1509.0,\n",
    "        840.0,\n",
    "        616.0,\n",
    "        52.0,\n",
    "        454.0,\n",
    "        1414.0,\n",
    "        5744.0,\n",
    "        1903.0,\n",
    "        15.0,\n",
    "        21.0,\n",
    "    ],\n",
    "}\n",
    "\n",
    "pd.DataFrame(dropZones, columns=[ 'Drop zone', 'Alt (ft)', ])"
   ]
  },
  {
   "cell_type": "code",
   "execution_count": null,
   "id": "d947199b-00fb-4e8d-9960-40810fd1b049",
   "metadata": {},
   "outputs": [],
   "source": [
    "dropZoneAltMSL = 62.0\n",
    "ignoreBaseline = True"
   ]
  },
  {
   "cell_type": "code",
   "execution_count": null,
   "id": "d78869b7-23ae-456e-bc86-53e5278cde94",
   "metadata": {
    "jupyter": {
     "source_hidden": true
    }
   },
   "outputs": [],
   "source": [
    "dropZoneAltMSLMeters = dropZoneAltMSL/FT_IN_M\n",
    "display(widgets.HTML('<h2>DZ Altitude = <span style = \"color: green\">%7.2f ft</span> (%7.2f m)<h1>' % (dropZoneAltMSL, dropZoneAltMSLMeters)))"
   ]
  },
  {
   "cell_type": "code",
   "execution_count": null,
   "id": "d1db80cc-9b99-44d8-b333-b61a5c8fd5ce",
   "metadata": {},
   "outputs": [],
   "source": [
    "jumpFiles = getAllSpeedJumpFilesFrom(Path('./data'))"
   ]
  },
  {
   "cell_type": "code",
   "execution_count": null,
   "id": "cafa6fd5-821f-4c33-8997-70e3a38c46b0",
   "metadata": {},
   "outputs": [],
   "source": [
    "jumpFiles"
   ]
  },
  {
   "cell_type": "markdown",
   "id": "aee48243-0cdf-47b2-8f6b-bfa5fe655eb7",
   "metadata": {},
   "source": [
    "---\n",
    "## Process jump file\n"
   ]
  },
  {
   "cell_type": "code",
   "execution_count": null,
   "id": "b09021e1-aa25-4edc-945c-57883c8240d9",
   "metadata": {
    "jupyter": {
     "source_hidden": true
    }
   },
   "outputs": [],
   "source": [
    "warnings.filterwarnings('ignore', category=UserWarning) # FNV, conda issue\n",
    "jumpFilesList = list(jumpFiles.keys())\n",
    "if (len(jumpFilesList) > 1):\n",
    "    filePath = jumpFilesList[1]\n",
    "    rawData, tag = getFlySightDataFromCSVFileName(filePath)\n",
    "    data = convertFlySight2SSScoring(rawData, altitudeDZMeters=dropZoneAltMSLMeters)\n",
    "    jumpResult = processJump(data)\n",
    "    if jumpResult.status == JumpStatus.OK:\n",
    "        display(jumpResult.table)\n",
    "        display(jumpResult.window)"
   ]
  },
  {
   "cell_type": "markdown",
   "id": "032f588b-c2a0-4545-a679-e94df877d71f",
   "metadata": {},
   "source": [
    "---\n",
    "## Results"
   ]
  },
  {
   "cell_type": "code",
   "execution_count": null,
   "id": "9be65f7e-e8e3-48bd-b445-2510ae605920",
   "metadata": {},
   "outputs": [],
   "source": [
    "warnings.filterwarnings('ignore', category=UserWarning) # FNV, conda issue\n",
    "jumpResults = processAllJumpFiles(jumpFiles=jumpFiles, altitudeDZMeters=dropZoneAltMSLMeters)\n",
    "aggregate = aggregateResults(jumpResults)\n",
    "aggregate"
   ]
  },
  {
   "cell_type": "markdown",
   "id": "d537b482-1450-4d46-af6e-ccf07fe480f4",
   "metadata": {},
   "source": [
    "### Rounded results for training log"
   ]
  },
  {
   "cell_type": "code",
   "execution_count": null,
   "id": "02536e30-0d27-4c71-9baf-bb7619fee52a",
   "metadata": {
    "jupyter": {
     "source_hidden": true
    }
   },
   "outputs": [],
   "source": [
    "roundedResults = roundedAggregateResults(aggregate)\n",
    "roundedResults"
   ]
  },
  {
   "cell_type": "markdown",
   "id": "4f6d55ef-46f7-4713-bf61-d92d40678ee2",
   "metadata": {},
   "source": [
    "## All jumps"
   ]
  },
  {
   "cell_type": "code",
   "execution_count": null,
   "id": "c8bce3a3-46eb-43c3-885b-2df67916bcd2",
   "metadata": {},
   "outputs": [],
   "source": [
    "def displayJumpDataIn(resultsTable: pd.DataFrame):\n",
    "    table = resultsTable.copy()\n",
    "    # Experimental\n",
    "    # For more information on the `interpolate` method and its options, see the [pandas documentation](https://pandas.pydata.org/pandas-docs/stable/reference/api/pandas.Series.interpolate.html).\n",
    "    # Additionally, you can also consider using other libraries like `scipy` which provides more advanced interpolation methods, such as `interp1d` or `griddata`. See the [scipy documentation](https://docs.scipy.org/doc/scipy/reference/interpolate.html) for more information.\n",
    "    table.vKMh = table.vKMh.apply(round)\n",
    "    table.hKMh = table.hKMh.apply(round)\n",
    "    table['altitude (ft)'] = table['altitude (ft)'].apply(round)\n",
    "    # table.netVectorKMh = table.netVectorKMh.apply(round)\n",
    "    table.index = ['']*len(table)\n",
    "    display(table)"
   ]
  },
  {
   "cell_type": "code",
   "execution_count": null,
   "id": "d33d654f-7f78-4d98-8c5d-3da562a4ca61",
   "metadata": {},
   "outputs": [],
   "source": [
    "allJumpsPlot = initializePlot('All jumps in set')\n",
    "jumpNumber = 0\n",
    "mixColor = 0\n",
    "for resultRef in jumpResults.keys():\n",
    "    if ignoreBaseline and 'baseline' in resultRef:\n",
    "        continue\n",
    "    jumpResult = jumpResults[resultRef]\n",
    "    if jumpResult.status == JumpStatus.OK:\n",
    "        validJumpStatus = '<hr><h1><span style=\"color: %s\">%s jump - %s - score = %.02f km/h</span></h1>' % ('green', resultRef, 'VALID', jumpResult.score)\n",
    "    else:\n",
    "        validJumpStatus = '<hr><h1><span style=\"color: %s\">%s jump - %s - %s</span></h1>' % ('red', resultRef, 'INVALID', jumpResult.status)\n",
    "\n",
    "    maxSpeed = jumpResult.maxSpeed\n",
    "    window = jumpResult.window\n",
    "    mixColor = (mixColor+1)%len(SPEED_COLORS)\n",
    "    if jumpResult.status == JumpStatus.OK:\n",
    "        belowMaxAltitude = isValidMaximumAltitude(jumpResult.data.altitudeAGL.max())\n",
    "        badJumpLegend = None\n",
    "        if not isValidMinimumAltitude(jumpResult.data.altitudeAGL.max()):\n",
    "            badJumpLegend = '<h3><span style=\"color: yellow\"><span style=\"font-weight: bold\">Warning:</span> exit altitude AGL was lower than the minimum scoring altitude according to IPC and USPA.</h3>'\n",
    "        if not belowMaxAltitude:\n",
    "            badJumpLegend = '<h3><span style=\"color: red\"><span style=\"font-weight: bold\">RE-JUMP:</span> exit altitude AGL exceeds the maximum altitude according to IPC and USPA.</h3>'\n",
    "            validJumpStatus = '<hr><h1><span style=\"color: %s\">%s jump - %s - %.02f km/h %s</span></h1>' % ('red', resultRef, 'INVALID', jumpResult.score, JumpStatus.ALTITUDE_EXCEEDS_MAXIMUM)\n",
    "        display(widgets.HTML(validJumpStatus))            \n",
    "        display(widgets.HTML('<h3>Max speed = {0:,.0f}; '.format(maxSpeed)+('exit at %d m (%d ft), end scoring window at %d m (%d ft)</h3?'%(window.start, 3.2808*window.start, window.end, 3.2808*window.end))))\n",
    "        if badJumpLegend:\n",
    "            display(widgets.HTML(badJumpLegend))\n",
    "            # TODO: Fix this logic, it's bass ackwards.\n",
    "            # if not belowMaxAltitude:\n",
    "            #     continue\n",
    "        displayJumpDataIn(jumpResult.table)\n",
    "        individualPlot = initializePlot(resultRef)\n",
    "        individualPlot = initializeExtraYRanges(individualPlot, startY = min(jumpResult.data.altitudeAGLFt)-500.0, endY = max(jumpResult.data.altitudeAGLFt)+500.0)\n",
    "        graphAltitude(individualPlot, jumpResult)\n",
    "        graphAngle(individualPlot, jumpResult)\n",
    "        hoverValue = bm.HoverTool(tooltips=[('Y-val', '@y{0.00}',),])\n",
    "        individualPlot.add_tools(hoverValue)\n",
    "        graphJumpResult(\n",
    "            individualPlot,\n",
    "            jumpResult,\n",
    "            lineColor=SPEED_COLORS[0])\n",
    "        graphJumpResult(\n",
    "            allJumpsPlot,\n",
    "            jumpResult,\n",
    "            lineColor=SPEED_COLORS[mixColor],\n",
    "            legend='%s - %.2f' % (resultRef, jumpResult.score),\n",
    "            showIt=False)"
   ]
  },
  {
   "cell_type": "markdown",
   "id": "7ce6a107-0553-4477-8159-48f89c4ebf3d",
   "metadata": {},
   "source": [
    "---\n",
    "## All skydives"
   ]
  },
  {
   "cell_type": "code",
   "execution_count": null,
   "id": "60f84d2b-7b74-4d79-86d8-112e2617c8f5",
   "metadata": {},
   "outputs": [],
   "source": [
    "sumResults = totalResultsFrom(aggregate)\n",
    "display(roundedResults)\n",
    "display(sumResults)\n",
    "bp.show(allJumpsPlot)"
   ]
  },
  {
   "cell_type": "markdown",
   "id": "768ddc32-cc8c-4c64-a39b-e47724a9a52d",
   "metadata": {},
   "source": [
    "---\n",
    "## Notes from FlySight BDFL\n",
    "\n",
    "This is the bulk of it: https://github.com/flysight/flysight-viewer-qt/blob/95442f1b3011258eed4d1ee0c4a25147a95e70ea/src/speedscoring.cpp#L172\n",
    "\n",
    "As of the 2024 rules, the Performance Window is the part of the jump which is scored. It starts at exit and ends with 7,400 ft below exit or at Breakoff Altitude (5,600 ft AGL), whichever comes first. The score is the highest speed measured between two points 3 seconds apart, anywhere within that window, calculated using the difference in elevation/time between the two points."
   ]
  },
  {
   "cell_type": "code",
   "execution_count": null,
   "id": "f4dc35ef-38ff-4ec8-84c1-a22fe2fb9f4f",
   "metadata": {},
   "outputs": [],
   "source": [
    "jumpResult.table['deltaV'] = jumpResult.table.vKMh.diff().fillna(jumpResult.table.vKMh)\n",
    "jumpResult.table['deltaAngle'] = jumpResult.table.speedAngle.diff().fillna(jumpResult.table.speedAngle)"
   ]
  }
 ],
 "metadata": {
  "kernelspec": {
   "display_name": "Python 3 (ipykernel)",
   "language": "python",
   "name": "python3"
  },
  "language_info": {
   "codemirror_mode": {
    "name": "ipython",
    "version": 3
   },
   "file_extension": ".py",
   "mimetype": "text/x-python",
   "name": "python",
   "nbconvert_exporter": "python",
   "pygments_lexer": "ipython3",
   "version": "3.12.10"
  }
 },
 "nbformat": 4,
 "nbformat_minor": 5
}
