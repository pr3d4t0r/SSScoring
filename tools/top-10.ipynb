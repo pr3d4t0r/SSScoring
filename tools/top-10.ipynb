{
 "cells": [
  {
   "cell_type": "markdown",
   "id": "f4730ea7-6d8c-49cf-aa8f-2597d1677b42",
   "metadata": {},
   "source": [
    "# List top 10 fastest score jump track files"
   ]
  },
  {
   "cell_type": "code",
   "execution_count": null,
   "id": "c5586d97-05f4-4a7c-a0d6-453a91db208c",
   "metadata": {},
   "outputs": [],
   "source": [
    "from pathlib import Path"
   ]
  },
  {
   "cell_type": "code",
   "execution_count": null,
   "id": "dc5afac6-5140-4e86-b8ad-a9c913cf8e3f",
   "metadata": {},
   "outputs": [],
   "source": [
    "from ssscoring.calc import processAllJumpFiles\n",
    "from ssscoring.flysight import getAllSpeedJumpFilesFrom"
   ]
  },
  {
   "cell_type": "code",
   "execution_count": null,
   "id": "6e732596-3fef-4b76-9847-dd70a22b8ec2",
   "metadata": {},
   "outputs": [],
   "source": [
    "dataLake = Path('./data')"
   ]
  },
  {
   "cell_type": "code",
   "execution_count": null,
   "id": "a4bf0ff4-4c64-4023-b89f-a3433cc46d59",
   "metadata": {},
   "outputs": [],
   "source": [
    "results = dict()\n",
    "\n",
    "for result in processAllJumpFiles(getAllSpeedJumpFilesFrom(dataLake)).items():\n",
    "    results[result[1].score] = result[0]\n",
    "\n",
    "for speed in sorted(results.keys(), reverse=True)[:10]:\n",
    "    print('%.02f - %s' % (speed, results[speed]))"
   ]
  },
  {
   "cell_type": "code",
   "execution_count": null,
   "id": "54c66b1c-660b-4227-b95c-14eb861dbc9b",
   "metadata": {},
   "outputs": [],
   "source": []
  }
 ],
 "metadata": {
  "kernelspec": {
   "display_name": "Python 3 (ipykernel)",
   "language": "python",
   "name": "python3"
  },
  "language_info": {
   "codemirror_mode": {
    "name": "ipython",
    "version": 3
   },
   "file_extension": ".py",
   "mimetype": "text/x-python",
   "name": "python",
   "nbconvert_exporter": "python",
   "pygments_lexer": "ipython3",
   "version": "3.12.10"
  }
 },
 "nbformat": 4,
 "nbformat_minor": 5
}
