{
 "cells": [
  {
   "cell_type": "markdown",
   "id": "5e47007b-4ceb-4f05-88da-0377dd0bb29f",
   "metadata": {},
   "source": [
    "# DZ locations normalizer\n",
    "\n",
    "Thanks to Alexey Galda (GitHub: @alexgalda) and wingsuitworld.com for providing the raw CSV of drop zone locations and elevations where speeders and wingsuit pilots train and compete.\n"
   ]
  },
  {
   "cell_type": "markdown",
   "id": "5e38833c-434c-4237-99e8-55a4a9f8d0eb",
   "metadata": {},
   "source": [
    "## FCC sexagecimal to decimal degrees converter:\n",
    "\n",
    "https://www.fcc.gov/media/radio/dms-decimal"
   ]
  },
  {
   "cell_type": "code",
   "execution_count": null,
   "id": "5dd5db25-8a3f-4f7f-91ba-2ec05c1d1568",
   "metadata": {},
   "outputs": [],
   "source": [
    "import pandas as pd"
   ]
  },
  {
   "cell_type": "markdown",
   "id": "722daed6-a794-4844-8bc4-22c42a933586",
   "metadata": {},
   "source": [
    "## Get the raw data"
   ]
  },
  {
   "cell_type": "code",
   "execution_count": null,
   "id": "e15758d5-7d04-415a-8280-26a3abe7f9ad",
   "metadata": {},
   "outputs": [],
   "source": [
    "RAW_DATA_FILE = './resources/drop-zones-loc-elev-raw.csv'\n",
    "rawData = pd.read_csv(RAW_DATA_FILE)"
   ]
  },
  {
   "cell_type": "markdown",
   "id": "f3f83cf5-6713-48f0-8ea7-55f187c9fdd2",
   "metadata": {},
   "source": [
    "## Impute missing data and rename columns to SSScoring conventions\n",
    "\n",
    "- Some DZ names are missing.  The city/town `name` will be imputed to the `DZ` column in those cases.\n",
    "- Future revisions may use ISO-2 country codes instead of ISO-3."
   ]
  },
  {
   "cell_type": "code",
   "execution_count": null,
   "id": "ebde3a42-ed79-4511-b634-e61e5c6a7530",
   "metadata": {},
   "outputs": [],
   "source": [
    "rawData.DZ = rawData.DZ.fillna(rawData.name)\n",
    "data = pd.DataFrame(data = {\n",
    "    'dropZone': rawData.DZ,\n",
    "    'lat': rawData.lat,\n",
    "    'lon': rawData.lon,\n",
    "    'elevation': rawData.elevation,\n",
    "    'location': rawData.name,\n",
    "    'country': rawData.country,\n",
    "})\n",
    "data.sort_values(by='dropZone', ascending=True, inplace=True)\n",
    "data.head(8)"
   ]
  },
  {
   "cell_type": "markdown",
   "id": "2e0570b3-988a-45bd-bd97-a64db7e6cc66",
   "metadata": {},
   "source": [
    "## Preserve the normalized data"
   ]
  },
  {
   "cell_type": "code",
   "execution_count": null,
   "id": "c4a09922-0035-4158-adb5-078825f14377",
   "metadata": {},
   "outputs": [],
   "source": [
    "data.to_csv('./ssscoring/resources/drop-zones-loc-elev.csv', sep=',')\n",
    "!ls -l ./resources/drop-zones*"
   ]
  },
  {
   "cell_type": "markdown",
   "id": "ee602503-f14a-482c-8e02-092ce7dc7e13",
   "metadata": {},
   "source": [
    "---\n",
    "## Generate the synthetic Python module with the DZ data\n",
    "\n",
    "This is necessary because Streamlit.io can't handle package resources natively for some reason or in a clean, Pythonic way."
   ]
  },
  {
   "cell_type": "code",
   "execution_count": null,
   "id": "0391fd0a-c288-41ec-9010-89aaee283652",
   "metadata": {},
   "outputs": [],
   "source": [
    "dropZones = pd.read_csv('./ssscoring/resources/drop-zones-loc-elev.csv', sep=',')"
   ]
  },
  {
   "cell_type": "code",
   "execution_count": null,
   "id": "ad76ace1-cd17-4cb7-a15f-a3f1999be3d5",
   "metadata": {},
   "outputs": [],
   "source": [
    "dropZones.reset_index(drop=True)\n",
    "dropZonesList = dropZones.to_dict('records')\n",
    "for record in dropZonesList:\n",
    "    del record['Unnamed: 0']"
   ]
  },
  {
   "cell_type": "code",
   "execution_count": null,
   "id": "5c4a5186-daf1-4559-8325-11881be98986",
   "metadata": {},
   "outputs": [],
   "source": [
    "with open('./ssscoring/dzdir.py', 'w') as outputStream:\n",
    "    outputStream.write('\"\"\"\\nAUTO-GENERATED - do not modify by hand.\\n\"\"\"\\n\\n')\n",
    "    outputStream.write('DROP_ZONES_LIST = %s' % dropZonesList)\n",
    "    outputStream.write('\\n\"\"\"\\n@private\\n\"\"\"\\n')\n",
    "    outputStream.write('\\n\\n# end of auto-generated file')"
   ]
  },
  {
   "cell_type": "markdown",
   "id": "42981700-9b73-459f-a314-5dc6bf9ff795",
   "metadata": {},
   "source": [
    "### Confirm the dzdir module works"
   ]
  },
  {
   "cell_type": "code",
   "execution_count": null,
   "id": "681d0b50-d8c1-4758-bc50-8d5c528befb9",
   "metadata": {},
   "outputs": [],
   "source": [
    "from ssscoring.dzdir import DROP_ZONES_LIST"
   ]
  },
  {
   "cell_type": "code",
   "execution_count": null,
   "id": "aa134ed8-f2ec-44f8-884b-26b2572647cd",
   "metadata": {},
   "outputs": [],
   "source": [
    "x = pd.DataFrame(DROP_ZONES_LIST)"
   ]
  },
  {
   "cell_type": "code",
   "execution_count": null,
   "id": "1659da21-bbf4-4f1b-b60c-e18b6abca7ec",
   "metadata": {},
   "outputs": [],
   "source": []
  }
 ],
 "metadata": {
  "kernelspec": {
   "display_name": "Python 3 (ipykernel)",
   "language": "python",
   "name": "python3"
  },
  "language_info": {
   "codemirror_mode": {
    "name": "ipython",
    "version": 3
   },
   "file_extension": ".py",
   "mimetype": "text/x-python",
   "name": "python",
   "nbconvert_exporter": "python",
   "pygments_lexer": "ipython3",
   "version": "3.11.10"
  }
 },
 "nbformat": 4,
 "nbformat_minor": 5
}
