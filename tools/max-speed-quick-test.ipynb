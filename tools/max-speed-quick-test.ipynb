{
 "cells": [
  {
   "cell_type": "markdown",
   "id": "a7d17620-0188-44ef-b753-c2082670f30c",
   "metadata": {},
   "source": [
    "# Max jump speed\n",
    "\n",
    "Validates the maximum jump speed.  Uses the SSScoring API and raw dataframe operations to compare the results."
   ]
  },
  {
   "cell_type": "code",
   "execution_count": null,
   "id": "eaba923d-4963-49d0-9764-714165b19471",
   "metadata": {},
   "outputs": [],
   "source": [
    "import warnings\n",
    "\n",
    "import pandas as pd\n",
    "warnings.filterwarnings('ignore', category=UserWarning) # FNV, conda issue if running in Lucyfer/Dockerized Jupyter "
   ]
  },
  {
   "cell_type": "code",
   "execution_count": null,
   "id": "1b148e80-8c5c-424c-aa10-ee141c44d368",
   "metadata": {},
   "outputs": [],
   "source": [
    "# SSScoring\n",
    "from ssscoring.calc import convertFlySight2SSScoring\n",
    "from ssscoring.calc import getFlySightDataFromCSVFileName\n",
    "from ssscoring.calc import processJump\n",
    "from ssscoring.constants import MPS_2_KMH"
   ]
  },
  {
   "cell_type": "markdown",
   "id": "1a580718-be30-4c8c-9425-d72d9c623e7d",
   "metadata": {},
   "source": [
    "## Lets get the working datasets"
   ]
  },
  {
   "cell_type": "code",
   "execution_count": null,
   "id": "4742b55a-14b7-4f4a-b03c-a499cb04df50",
   "metadata": {},
   "outputs": [],
   "source": [
    "SAMPLE_TRACK_FILE = 'data/24WSC_SP_R3_643.CSV'\n",
    "dropZoneAltMSLMeters = 3.0 # Crystal Coast Skydiving\n",
    "\n",
    "orgData = pd.read_csv(SAMPLE_TRACK_FILE, sep=',', skiprows=(1,1), index_col=False)\n",
    "data, tag = getFlySightDataFromCSVFileName(SAMPLE_TRACK_FILE)\n",
    "data = convertFlySight2SSScoring(data, altitudeDZMeters=dropZoneAltMSLMeters)"
   ]
  },
  {
   "cell_type": "markdown",
   "id": "1bfb358d-ee82-4116-9749-565e4b365fd1",
   "metadata": {},
   "source": [
    "## Identical dataset length"
   ]
  },
  {
   "cell_type": "code",
   "execution_count": null,
   "id": "2c9a89d6-4d09-4c8f-a587-40311e5ab00a",
   "metadata": {},
   "outputs": [],
   "source": [
    "print('orgData len = %d, data len = %d' % (len(orgData), len(data)))"
   ]
  },
  {
   "cell_type": "markdown",
   "id": "f5fe67fe-17de-432c-b190-6635f9b50ced",
   "metadata": {},
   "source": [
    "### Confirm that both data files have the same values using the more meaningful SSScore column names"
   ]
  },
  {
   "cell_type": "code",
   "execution_count": null,
   "id": "c1aa80a0-4dd7-49ea-915a-a00d9cd0cc71",
   "metadata": {},
   "outputs": [],
   "source": [
    "orgData.velD.equals(data.vMetersPerSecond)"
   ]
  },
  {
   "cell_type": "markdown",
   "id": "3cd2244b-77e4-4aef-bacd-c176349d4d7d",
   "metadata": {},
   "source": [
    "## Get the absolute max speed using SSScoring and the original FlySight data"
   ]
  },
  {
   "cell_type": "code",
   "execution_count": null,
   "id": "46b70715-d516-4044-8a74-e46566c07367",
   "metadata": {},
   "outputs": [],
   "source": [
    "jumpResult = processJump(data)\n",
    "\n",
    "v1 = orgData[orgData.velD > 100.0].velD  # Get all the data points where velD > 100.0 m/s\n",
    "v2 = data[data.vMetersPerSecond > 100.0].vMetersPerSecond  # Get all the data points where vMetersPerSecond > 100.0 m/s\n",
    "pd.DataFrame(\n",
    "{\n",
    "    'SSScoring max': [ jumpResult.maxSpeed, ],\n",
    "    'FlySight vH max': [ MPS_2_KMH*v1.max(), ],\n",
    "    'SSScoring vH max': [ MPS_2_KMH*v2.max(), ],\n",
    "})"
   ]
  },
  {
   "cell_type": "code",
   "execution_count": null,
   "id": "ed2e052a-0dcb-4f36-a4a8-8184954b64ef",
   "metadata": {},
   "outputs": [],
   "source": [
    "print(jumpResult.score, jumpResult.maxSpeed, MPS_2_KMH*v2.max())"
   ]
  },
  {
   "cell_type": "markdown",
   "id": "aa653e91-ec55-4597-ba62-93a51098174d",
   "metadata": {},
   "source": [
    "<h2><span style='color: #f00'>None of these coincide with the continental speed of 535.41 km/h filed for record at the 2024 World Cup.</span>  The max speed of 533.16 is reported over the full data set.  SSScore reports the absolute max speed within the scoring window.  That means that the absolute max if we follow the naïve FlySightViewer eyeballing method is estimated outside of the scoring window.</h2>\n",
    "\n",
    "<img src='https://eugeneciurana.com/personal/images/Nik-jump-04-FS-max-speed.png' width='50%' height='50%'>"
   ]
  },
  {
   "cell_type": "code",
   "execution_count": null,
   "id": "9714b87d-e3ee-448b-86cb-8429523364bf",
   "metadata": {},
   "outputs": [],
   "source": []
  }
 ],
 "metadata": {
  "kernelspec": {
   "display_name": "Python 3 (ipykernel)",
   "language": "python",
   "name": "python3"
  },
  "language_info": {
   "codemirror_mode": {
    "name": "ipython",
    "version": 3
   },
   "file_extension": ".py",
   "mimetype": "text/x-python",
   "name": "python",
   "nbconvert_exporter": "python",
   "pygments_lexer": "ipython3",
   "version": "3.11.10"
  }
 },
 "nbformat": 4,
 "nbformat_minor": 5
}
